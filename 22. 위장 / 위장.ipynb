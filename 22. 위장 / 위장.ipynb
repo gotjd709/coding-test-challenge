{
  "nbformat": 4,
  "nbformat_minor": 0,
  "metadata": {
    "colab": {
      "name": "위장.ipynb",
      "provenance": [],
      "authorship_tag": "ABX9TyNpNG88qBW82P5W66bl/xen",
      "include_colab_link": true
    },
    "kernelspec": {
      "name": "python3",
      "display_name": "Python 3"
    },
    "language_info": {
      "name": "python"
    }
  },
  "cells": [
    {
      "cell_type": "markdown",
      "metadata": {
        "id": "view-in-github",
        "colab_type": "text"
      },
      "source": [
        "<a href=\"https://colab.research.google.com/github/gotjd709/Coding_Test_Challenge/blob/main/22.%20%EC%9C%84%EC%9E%A5%20/%20%EC%9C%84%EC%9E%A5.ipynb\" target=\"_parent\"><img src=\"https://colab.research.google.com/assets/colab-badge.svg\" alt=\"Open In Colab\"/></a>"
      ]
    },
    {
      "cell_type": "markdown",
      "metadata": {
        "id": "pyPbIfHqu3b5"
      },
      "source": [
        "### 나의 풀이"
      ]
    },
    {
      "cell_type": "code",
      "metadata": {
        "colab": {
          "base_uri": "https://localhost:8080/"
        },
        "id": "aoY9LwIHlzqv",
        "outputId": "958e7ab6-0a43-492f-806b-f9b83c7b9047"
      },
      "source": [
        "clothes = [[\"yellowhat\", \"headgear\"], [\"bluesunglasses\", \"eyewear\"], [\"green_turban\", \"headgear\"]]\n",
        "\n",
        "def solution(clothes):\n",
        "    hash = dict()\n",
        "    for i, cloth in enumerate(clothes):\n",
        "        if cloth[1] in hash:\n",
        "            hash[cloth[1]] += 1\n",
        "        else:\n",
        "            hash[cloth[1]] = 2\n",
        "    answer = 1\n",
        "    for j, value in enumerate(hash.values()):\n",
        "        answer *= value\n",
        "    return answer-1\n",
        "\n",
        "print(solution(clothes))"
      ],
      "execution_count": null,
      "outputs": [
        {
          "output_type": "stream",
          "name": "stdout",
          "text": [
            "5\n"
          ]
        }
      ]
    },
    {
      "cell_type": "markdown",
      "metadata": {
        "id": "LPx2uf6ru5-J"
      },
      "source": [
        "### 다른 사람의 풀이"
      ]
    },
    {
      "cell_type": "code",
      "metadata": {
        "id": "5YBLRtd3urfo"
      },
      "source": [
        "def solution(clothes):\n",
        "    from collections import Counter\n",
        "    from functools import reduce\n",
        "    cnt = Counter([kind for name, kind in clothes])\n",
        "    answer = reduce(lambda x, y: x*(y+1), cnt.values(), 1) - 1\n",
        "    return answer"
      ],
      "execution_count": null,
      "outputs": []
    },
    {
      "cell_type": "markdown",
      "metadata": {
        "id": "wIzOYN2eu68r"
      },
      "source": [
        "#### 알게된 점\n",
        "\n",
        "- Counter를 쓴 후 .values()로 딕셔너리처럼 value값들을 빼낼 수 있다.\n",
        "- reduce(집계함수, 순회 가능한 데이터[, 초기값])를 통해 시퀀스의 원소들을 누적적으로 함수에 적용시킬 수 있다.\n"
      ]
    },
    {
      "cell_type": "code",
      "metadata": {
        "id": "l8PSdPblzB9P"
      },
      "source": [
        ""
      ],
      "execution_count": null,
      "outputs": []
    }
  ]
}