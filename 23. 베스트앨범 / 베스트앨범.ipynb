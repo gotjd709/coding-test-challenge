{
  "nbformat": 4,
  "nbformat_minor": 0,
  "metadata": {
    "colab": {
      "name": "베스트앨범.ipynb",
      "provenance": [],
      "authorship_tag": "ABX9TyOeFl5LY2Njq9ZQuqVTkzeL",
      "include_colab_link": true
    },
    "kernelspec": {
      "name": "python3",
      "display_name": "Python 3"
    },
    "language_info": {
      "name": "python"
    }
  },
  "cells": [
    {
      "cell_type": "markdown",
      "metadata": {
        "id": "view-in-github",
        "colab_type": "text"
      },
      "source": [
        "<a href=\"https://colab.research.google.com/github/gotjd709/Coding_Test_Challenge/blob/main/23.%20%EB%B2%A0%EC%8A%A4%ED%8A%B8%EC%95%A8%EB%B2%94%20/%20%EB%B2%A0%EC%8A%A4%ED%8A%B8%EC%95%A8%EB%B2%94.ipynb\" target=\"_parent\"><img src=\"https://colab.research.google.com/assets/colab-badge.svg\" alt=\"Open In Colab\"/></a>"
      ]
    },
    {
      "cell_type": "markdown",
      "metadata": {
        "id": "tkruH7MxIz8U"
      },
      "source": [
        "### 나의 풀이"
      ]
    },
    {
      "cell_type": "code",
      "metadata": {
        "id": "KCTo2gD5zYm_"
      },
      "source": [
        "def solution(genres, plays):\n",
        "    hash = dict()\n",
        "\n",
        "    for i in range(len(genres)):\n",
        "        if genres[i] in hash:\n",
        "            hash[genres[i]].append([i, plays[i]])\n",
        "        else:\n",
        "            hash[genres[i]] = [[i, plays[i]]]\n",
        "\n",
        "    song = sorted(hash.values(), key = lambda x : -sum([j[1] for j in x]))\n",
        "\n",
        "    answer = []\n",
        "    for genre in song:\n",
        "        answer.append(max(genre, key = lambda x: x[1])[0])\n",
        "        genre.remove(max(genre, key = lambda x: x[1]))\n",
        "        try:\n",
        "            answer.append(max(genre, key = lambda x: x[1])[0])\n",
        "        except:\n",
        "            pass\n",
        "\n",
        "    return answer"
      ],
      "execution_count": 13,
      "outputs": []
    },
    {
      "cell_type": "markdown",
      "metadata": {
        "id": "KttdhUyvI1o6"
      },
      "source": [
        "### 다른 사람의 풀이"
      ]
    },
    {
      "cell_type": "code",
      "metadata": {
        "id": "1I8EFjFI3b7g"
      },
      "source": [
        "def solution(genres, plays):\n",
        "    answer = []\n",
        "    d = {e:[] for e in set(genres)}\n",
        "    for e in zip(genres, plays, range(len(plays))):\n",
        "        d[e[0]].append([e[1] , e[2]])\n",
        "    genreSort =sorted(list(d.keys()), key= lambda x: sum( map(lambda y: y[0],d[x])), reverse = True)\n",
        "    for g in genreSort:\n",
        "        temp = [e[1] for e in sorted(d[g],key= lambda x: (x[0], -x[1]), reverse = True)]\n",
        "        answer += temp[:min(len(temp),2)]\n",
        "    return answer"
      ],
      "execution_count": 14,
      "outputs": []
    },
    {
      "cell_type": "markdown",
      "metadata": {
        "id": "x999e9YEJBBU"
      },
      "source": [
        "### 알게된 점\n",
        "\n",
        "- 1. 해쉬를 구현할 때 set을 이용하여 미리 key값들을 만들어 for문을 돌 때 if문을 사용하지 않게 하여 시간복잡도를 줄일 수 있다.\n",
        "- 2. 해쉬를 구현한 디렉토리 전체를 정렬하는 것이 아니라 해쉬의 key값들을 정렬한 리스트를 구한 후 이미 구현된 해쉬에서 불러들여 시간복잡도를 줄일 수 있다.\n",
        "- 3. 해쉬의 value 리스트의 원소가 하나인 경우 예외처리가 힘들었는데\\[:min(len(temp), 2)\\]와 같은 방법을 이용하여 해결할 수 있다. 또한 +=를 통해 리스트 자체를 리스트에 추가시킬 수 있음을 알게 되었다."
      ]
    },
    {
      "cell_type": "code",
      "metadata": {
        "id": "iKbnuFrcST9r"
      },
      "source": [
        ""
      ],
      "execution_count": null,
      "outputs": []
    }
  ]
}