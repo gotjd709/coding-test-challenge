{
  "nbformat": 4,
  "nbformat_minor": 0,
  "metadata": {
    "colab": {
      "name": "기능개발.ipynb",
      "provenance": [],
      "authorship_tag": "ABX9TyP3nQQfLvhmTQIPPBvm9YJU",
      "include_colab_link": true
    },
    "kernelspec": {
      "name": "python3",
      "display_name": "Python 3"
    },
    "language_info": {
      "name": "python"
    }
  },
  "cells": [
    {
      "cell_type": "markdown",
      "metadata": {
        "id": "view-in-github",
        "colab_type": "text"
      },
      "source": [
        "<a href=\"https://colab.research.google.com/github/gotjd709/Coding_Test_Challenge/blob/main/17.%20%EA%B8%B0%EB%8A%A5%EA%B0%9C%EB%B0%9C%20/%20%EA%B8%B0%EB%8A%A5%EA%B0%9C%EB%B0%9C.ipynb\" target=\"_parent\"><img src=\"https://colab.research.google.com/assets/colab-badge.svg\" alt=\"Open In Colab\"/></a>"
      ]
    },
    {
      "cell_type": "markdown",
      "metadata": {
        "id": "NI5YoJIwWIk1"
      },
      "source": [
        "## 기능개발\n",
        "\n",
        "#### 나의 풀이"
      ]
    },
    {
      "cell_type": "code",
      "metadata": {
        "id": "dQu3IofZWANC"
      },
      "source": [
        "def solution(progresses, speeds):\n",
        "    days = [0 for l in range(len(speeds))]\n",
        "    cnt1 = 0\n",
        "    while min(progresses) < 100:\n",
        "        cnt1 += 1\n",
        "        for i, (progress, speed) in enumerate(zip(progresses, speeds)):\n",
        "                progresses[i] = progress + speed\n",
        "                if (progresses[i] >= 100) and (days[i] == 0):\n",
        "                    days[i] = cnt1   \n",
        "\n",
        "    answer = []\n",
        "    ans_num = days[0]\n",
        "    cnt2 = 1\n",
        "    for j in range(1, len(days)):\n",
        "        if ans_num >= days[j]:\n",
        "            cnt2 += 1\n",
        "        else:\n",
        "            answer.append(cnt2)\n",
        "            ans_num = days[j]\n",
        "            cnt2 = 1\n",
        "    answer.append(cnt2)\n",
        "\n",
        "    return answer"
      ],
      "execution_count": null,
      "outputs": []
    },
    {
      "cell_type": "markdown",
      "metadata": {
        "id": "l1u8trI3WJ-r"
      },
      "source": [
        "#### 다른 사람의 풀이"
      ]
    },
    {
      "cell_type": "code",
      "metadata": {
        "id": "OQT3avUbXPX3"
      },
      "source": [
        "progresses = [95, 90, 99, 99, 80, 99]\n",
        "speeds = [1, 1, 1, 1, 1, 1]"
      ],
      "execution_count": 3,
      "outputs": []
    },
    {
      "cell_type": "code",
      "metadata": {
        "colab": {
          "base_uri": "https://localhost:8080/"
        },
        "id": "qYCtGgySWKHV",
        "outputId": "d9f64df6-42ae-42d2-a799-9d143221c990"
      },
      "source": [
        "def solution(progresses, speeds):\n",
        "    Q=[]\n",
        "    for p, s in zip(progresses, speeds):\n",
        "        if len(Q)==0 or Q[-1][0]<-((p-100)//s):\n",
        "            Q.append([-((p-100)//s),1])\n",
        "            print(Q)\n",
        "        else:\n",
        "            Q[-1][1]+=1\n",
        "            print(Q)\n",
        "    return [q[1] for q in Q]\n",
        "\n",
        "solution(progresses, speeds)"
      ],
      "execution_count": 4,
      "outputs": [
        {
          "output_type": "stream",
          "text": [
            "[[5, 1]]\n",
            "[[5, 1], [10, 1]]\n",
            "[[5, 1], [10, 2]]\n",
            "[[5, 1], [10, 3]]\n",
            "[[5, 1], [10, 3], [20, 1]]\n",
            "[[5, 1], [10, 3], [20, 2]]\n"
          ],
          "name": "stdout"
        },
        {
          "output_type": "execute_result",
          "data": {
            "text/plain": [
              "[1, 3, 2]"
            ]
          },
          "metadata": {
            "tags": []
          },
          "execution_count": 4
        }
      ]
    },
    {
      "cell_type": "markdown",
      "metadata": {
        "id": "yBWnd3kVWKRU"
      },
      "source": [
        "#### 알게 된 점\n",
        "\n",
        "- progresses와 speeds를 이중리스트와 zip을 이용하여 한 번 도는 과정에서 필요한 일 수를 구할 수 있고 동시에 비교하며 수를 크게 할 것인지 appned 할 것인지 설계할 수 있다."
      ]
    }
  ]
}