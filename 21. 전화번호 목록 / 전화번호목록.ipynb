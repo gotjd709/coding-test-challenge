{
  "nbformat": 4,
  "nbformat_minor": 0,
  "metadata": {
    "colab": {
      "name": "전화번호목록.ipynb",
      "provenance": [],
      "authorship_tag": "ABX9TyPyBDcQtYvt106bi4X3ZCR0",
      "include_colab_link": true
    },
    "kernelspec": {
      "name": "python3",
      "display_name": "Python 3"
    },
    "language_info": {
      "name": "python"
    }
  },
  "cells": [
    {
      "cell_type": "markdown",
      "metadata": {
        "id": "view-in-github",
        "colab_type": "text"
      },
      "source": [
        "<a href=\"https://colab.research.google.com/github/gotjd709/Coding_Test_Challenge/blob/main/21.%20%EC%A0%84%ED%99%94%EB%B2%88%ED%98%B8%20%EB%AA%A9%EB%A1%9D%20/%20%EC%A0%84%ED%99%94%EB%B2%88%ED%98%B8%EB%AA%A9%EB%A1%9D.ipynb\" target=\"_parent\"><img src=\"https://colab.research.google.com/assets/colab-badge.svg\" alt=\"Open In Colab\"/></a>"
      ]
    },
    {
      "cell_type": "markdown",
      "metadata": {
        "id": "1Q_LY-CsifYs"
      },
      "source": [
        "### 내가 해본 시도"
      ]
    },
    {
      "cell_type": "code",
      "metadata": {
        "colab": {
          "base_uri": "https://localhost:8080/"
        },
        "id": "Pvs9NKBfGkux",
        "outputId": "c99a9f17-d9b0-4e12-d865-78f0d15bcb30"
      },
      "source": [
        "def solution(phone_book):\n",
        "    hash = dict()\n",
        "    for i in phone_book:\n",
        "        if len(i) in hash.keys():\n",
        "            hash[len(i)].append(i)\n",
        "        else:\n",
        "            hash[len(i)] = [i]\n",
        "    keys = sorted([int(i) for i in hash.keys()])\n",
        "    for j in keys:\n",
        "        hash_nums = hash[j]\n",
        "        del hash[j]\n",
        "        values = sum(hash.values(), [])\n",
        "        for hash_num1 in hash_nums:\n",
        "            for hash_num2 in values:\n",
        "                if hash_num1 == hash_num2[:len(hash_num1)]:\n",
        "                    return False\n",
        "    return True"
      ],
      "execution_count": 70,
      "outputs": [
        {
          "output_type": "execute_result",
          "data": {
            "text/plain": [
              "False"
            ]
          },
          "metadata": {},
          "execution_count": 70
        }
      ]
    },
    {
      "cell_type": "markdown",
      "metadata": {
        "id": "GRPGbYlAin_9"
      },
      "source": [
        "#### 문제점 파악\n",
        "- 번호의 길이에 대해 해시를 적용하였다.\n",
        "- 때문에 하나의 버킷 안에 누적되는 값이 많아져 쌓는 것도 꺼내는 것도 오래걸린다.\n",
        "\n",
        "=> 해시에서 늘어놓는 것에 초점을 두는 것이 아니라 해시의 길이를 길게 하는 것에 초점을 두는 것이 더 효율적이다.\n",
        "\n",
        "### 다른 사람의 풀이"
      ]
    },
    {
      "cell_type": "code",
      "metadata": {
        "colab": {
          "base_uri": "https://localhost:8080/"
        },
        "id": "4n9mevuWawS9",
        "outputId": "a4237fbf-93f8-48fd-c650-fcbb79861ee2"
      },
      "source": [
        "def solution(phone_book):\n",
        "    hash_map = dict()\n",
        "    for phone_number in phone_book:\n",
        "        hash_map[phone_number] = 1\n",
        "    for phone_number in phone_book:\n",
        "        find_num = ''\n",
        "        for number in phone_number:\n",
        "            find_num += number\n",
        "            if (find_num in phone_book) and (find_num != phone_number):\n",
        "                return False\n",
        "    return True\n"
      ],
      "execution_count": 78,
      "outputs": [
        {
          "output_type": "execute_result",
          "data": {
            "text/plain": [
              "False"
            ]
          },
          "metadata": {},
          "execution_count": 78
        }
      ]
    },
    {
      "cell_type": "markdown",
      "metadata": {
        "id": "4Y_f_i37kpQI"
      },
      "source": [
        "- 해시의 길이를 phone_book으로 하여 길게하였다.\n",
        "- 한 사람의 번호 안에서 번호를 일일이 나누고 하나씩 더해가며 그 번호가 해시 안에 있는지 찾도록 하였다."
      ]
    },
    {
      "cell_type": "code",
      "metadata": {
        "id": "XLDy3OZ8lCLd"
      },
      "source": [
        ""
      ],
      "execution_count": null,
      "outputs": []
    }
  ]
}