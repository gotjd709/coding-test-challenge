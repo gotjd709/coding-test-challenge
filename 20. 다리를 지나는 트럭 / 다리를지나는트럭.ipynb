{
  "nbformat": 4,
  "nbformat_minor": 0,
  "metadata": {
    "colab": {
      "name": "다리를지나는트럭.ipynb",
      "provenance": [],
      "authorship_tag": "ABX9TyMtDQvCJk2hgvKoqVdyV1Ue",
      "include_colab_link": true
    },
    "kernelspec": {
      "name": "python3",
      "display_name": "Python 3"
    },
    "language_info": {
      "name": "python"
    }
  },
  "cells": [
    {
      "cell_type": "markdown",
      "metadata": {
        "id": "view-in-github",
        "colab_type": "text"
      },
      "source": [
        "<a href=\"https://colab.research.google.com/github/gotjd709/Coding_Test_Challenge/blob/main/20.%20%EB%8B%A4%EB%A6%AC%EB%A5%BC%20%EC%A7%80%EB%82%98%EB%8A%94%20%ED%8A%B8%EB%9F%AD%20/%20%EB%8B%A4%EB%A6%AC%EB%A5%BC%EC%A7%80%EB%82%98%EB%8A%94%ED%8A%B8%EB%9F%AD.ipynb\" target=\"_parent\"><img src=\"https://colab.research.google.com/assets/colab-badge.svg\" alt=\"Open In Colab\"/></a>"
      ]
    },
    {
      "cell_type": "markdown",
      "metadata": {
        "id": "u9LSAOqk5JXq"
      },
      "source": [
        "### 내가 해본 시도"
      ]
    },
    {
      "cell_type": "code",
      "metadata": {
        "id": "uYhHtNegiSBt",
        "colab": {
          "base_uri": "https://localhost:8080/"
        },
        "outputId": "f6b03e29-bff0-41fb-ea73-7f41f3ec443e"
      },
      "source": [
        "from collections import deque\n",
        "\n",
        "bridge_length = 2\n",
        "weight = 10\n",
        "truck_weights = [7,4,5,6]\n",
        "\n",
        "truck_weights = deque(truck_weights)\n",
        "bridge = deque([0]*bridge_length)\n",
        "print(bridge)\n",
        "time = 0\n",
        "\n",
        "while len(truck_weights) > 0:\n",
        "    truck = truck_weights.popleft()\n",
        "    if sum(bridge) + truck <= weight:\n",
        "        bridge.popleft()\n",
        "        bridge.append(truck)\n",
        "        time += 1\n",
        "        print(bridge)\n",
        "        if len(truck_weights) == 0:\n",
        "            while sum(bridge) != 0:\n",
        "                bridge.popleft()\n",
        "                bridge.append(0)\n",
        "                time += 1\n",
        "                print(bridge)                \n",
        "    else:\n",
        "        bridge_sum = sum(bridge)\n",
        "        while bridge_sum == sum(bridge):\n",
        "            bridge.popleft()\n",
        "            bridge.append(0)\n",
        "            time += 1\n",
        "            if bridge_sum != sum(bridge):\n",
        "                bridge.popleft()\n",
        "                bridge.append(truck)\n",
        "            print(bridge)\n",
        "print(time)"
      ],
      "execution_count": null,
      "outputs": [
        {
          "output_type": "stream",
          "text": [
            "deque([0, 0])\n",
            "deque([0, 7])\n",
            "deque([7, 0])\n",
            "deque([0, 4])\n",
            "deque([4, 5])\n",
            "deque([0, 6])\n",
            "5\n"
          ],
          "name": "stdout"
        }
      ]
    },
    {
      "cell_type": "markdown",
      "metadata": {
        "id": "Pz3ZFf4A5OXo"
      },
      "source": [
        "#### 문제점 파악\n",
        "- 언제동안 (while문의 조건) 해야하는지 \n",
        "- 언제 빼주고 언제 더해주어야 하는지\n",
        "- 언제 시간을 추가해야 하는지\n",
        "\n",
        "를 제대로 이해하지 못하였다.\n",
        "\n",
        "\n",
        "### 다른 사람의 풀이"
      ]
    },
    {
      "cell_type": "code",
      "metadata": {
        "colab": {
          "base_uri": "https://localhost:8080/"
        },
        "id": "qTD8URTYwp5e",
        "outputId": "45bfd365-07a6-43f2-b3e5-ad536d5c67b0"
      },
      "source": [
        "bridge_length = 2\n",
        "weight = 10\n",
        "truck_weights = [7,4,5,6]\n",
        "\n",
        "bridge = [0]*bridge_length\n",
        "time = 0\n",
        "\n",
        "while bridge:\n",
        "    bridge.pop(0)\n",
        "    time += 1\n",
        "    if truck_weights:\n",
        "        if sum(bridge) + truck_weights[0] <= weight:\n",
        "            truck = truck_weights.pop(0)\n",
        "            bridge.append(truck)\n",
        "        else:\n",
        "            bridge.append(0)\n",
        "print(time)\n"
      ],
      "execution_count": null,
      "outputs": [
        {
          "output_type": "stream",
          "text": [
            "8\n"
          ],
          "name": "stdout"
        }
      ]
    },
    {
      "cell_type": "markdown",
      "metadata": {
        "id": "IJCrKp9l5XnK"
      },
      "source": [
        "- 마지막 트럭이 타기 전까지 bridge의 역할은 다리의 역할로 트럭이 무게에 맞게 지나간다.\n",
        "- 마지막 트럭이 탄 후에 bridge의 역할은 시간을 세고 while을 종료시키기 위한 역할을 한다.\n"
      ]
    }
  ]
}