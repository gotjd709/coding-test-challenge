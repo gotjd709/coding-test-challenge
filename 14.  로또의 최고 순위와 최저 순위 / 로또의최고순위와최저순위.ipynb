{
  "nbformat": 4,
  "nbformat_minor": 0,
  "metadata": {
    "colab": {
      "name": "로또의최고순위와최저순위.ipynb",
      "provenance": [],
      "authorship_tag": "ABX9TyMzQTOwx4pIf3m6NkpOvQtL",
      "include_colab_link": true
    },
    "kernelspec": {
      "name": "python3",
      "display_name": "Python 3"
    },
    "language_info": {
      "name": "python"
    }
  },
  "cells": [
    {
      "cell_type": "markdown",
      "metadata": {
        "id": "view-in-github",
        "colab_type": "text"
      },
      "source": [
        "<a href=\"https://colab.research.google.com/github/gotjd709/Coding_Test_Challenge/blob/main/14.%20%20%EB%A1%9C%EB%98%90%EC%9D%98%20%EC%B5%9C%EA%B3%A0%20%EC%88%9C%EC%9C%84%EC%99%80%20%EC%B5%9C%EC%A0%80%20%EC%88%9C%EC%9C%84%20/%20%EB%A1%9C%EB%98%90%EC%9D%98%EC%B5%9C%EA%B3%A0%EC%88%9C%EC%9C%84%EC%99%80%EC%B5%9C%EC%A0%80%EC%88%9C%EC%9C%84.ipynb\" target=\"_parent\"><img src=\"https://colab.research.google.com/assets/colab-badge.svg\" alt=\"Open In Colab\"/></a>"
      ]
    },
    {
      "cell_type": "markdown",
      "metadata": {
        "id": "Y0GOJRSI6BXH"
      },
      "source": [
        "## 로또의 최고 순위와 최저 순위\n",
        "\n",
        "#### 내가 만든 함수"
      ]
    },
    {
      "cell_type": "code",
      "metadata": {
        "id": "HI5QlnI35Xlc"
      },
      "source": [
        "def solution(lottos, win_nums):\n",
        "    \n",
        "    # calculate the number of zeros\n",
        "    while 0 in lottos:\n",
        "        lottos.remove(0)\n",
        "    zero_num = 6 - len(lottos)\n",
        "    if zero_num == 6:\n",
        "        zero_num = 5\n",
        "    \n",
        "    # calcualte the number of win\n",
        "    cnt = 0\n",
        "    for num in sorted(win_nums):\n",
        "        if num in lottos:\n",
        "            cnt += 1   \n",
        "    \n",
        "    # result\n",
        "    answer = []\n",
        "    if cnt <= 1:\n",
        "        answer.append(6-zero_num)\n",
        "        answer.append(6)\n",
        "    else:\n",
        "        answer.append(7-cnt-zero_num)\n",
        "        answer.append(7-cnt)    \n",
        "    \n",
        "    return answer"
      ],
      "execution_count": null,
      "outputs": []
    },
    {
      "cell_type": "markdown",
      "metadata": {
        "id": "gEIpKIco6Chr"
      },
      "source": [
        "#### 다른 사람의 풀이"
      ]
    },
    {
      "cell_type": "code",
      "metadata": {
        "id": "RRqvKiBD6CuX"
      },
      "source": [
        "def solution(lottos, win_nums):\n",
        "\n",
        "    rank=[6,6,5,4,3,2,1]\n",
        "\n",
        "    cnt_0 = lottos.count(0)\n",
        "    ans = 0\n",
        "    for x in win_nums:\n",
        "        if x in lottos:\n",
        "            ans += 1\n",
        "    return rank[cnt_0 + ans],rank[ans]"
      ],
      "execution_count": null,
      "outputs": []
    },
    {
      "cell_type": "markdown",
      "metadata": {
        "id": "0AWGBK7u7J94"
      },
      "source": [
        "**알게된 점**\n",
        "\n",
        "1. list 형태가 아닌 숫자의 형태로 return해도 상관이 없다.\n",
        "\n",
        "2. 리스트의 인덱스를 반환하도록 하면 여러 조건을 세울 필요가 없어진다."
      ]
    }
  ]
}