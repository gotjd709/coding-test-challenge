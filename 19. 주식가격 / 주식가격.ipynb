{
  "nbformat": 4,
  "nbformat_minor": 0,
  "metadata": {
    "colab": {
      "name": "주식가격.ipynb",
      "provenance": [],
      "authorship_tag": "ABX9TyPOe8x+oDOxt0534eXujRtH",
      "include_colab_link": true
    },
    "kernelspec": {
      "name": "python3",
      "display_name": "Python 3"
    },
    "language_info": {
      "name": "python"
    }
  },
  "cells": [
    {
      "cell_type": "markdown",
      "metadata": {
        "id": "view-in-github",
        "colab_type": "text"
      },
      "source": [
        "<a href=\"https://colab.research.google.com/github/gotjd709/Coding_Test_Challenge/blob/main/19.%20%EC%A3%BC%EC%8B%9D%EA%B0%80%EA%B2%A9%20/%20%EC%A3%BC%EC%8B%9D%EA%B0%80%EA%B2%A9.ipynb\" target=\"_parent\"><img src=\"https://colab.research.google.com/assets/colab-badge.svg\" alt=\"Open In Colab\"/></a>"
      ]
    },
    {
      "cell_type": "markdown",
      "metadata": {
        "id": "9_gO0ePgPgjb"
      },
      "source": [
        "## 주식가격\n",
        "\n",
        "#### 나의 풀이"
      ]
    },
    {
      "cell_type": "code",
      "metadata": {
        "colab": {
          "base_uri": "https://localhost:8080/"
        },
        "id": "gR5k1bCcIjzc",
        "outputId": "7c45d089-4fe1-4170-8c5a-10e87a4a5e5e"
      },
      "source": [
        "from collections import deque\n",
        "\n",
        "prices = [1, 2, 3, 2, 3]\t\n",
        "\n",
        "answer = []\n",
        "prices = deque(prices)\n",
        "\n",
        "while len(prices) > 0:\n",
        "    f_price = prices.popleft()\n",
        "    cnt = 0\n",
        "    for price in prices:\n",
        "        if f_price <= price:\n",
        "            cnt += 1\n",
        "        else:\n",
        "            cnt += 1\n",
        "            break\n",
        "    answer.append(cnt)\n",
        "\n",
        "print(answer)"
      ],
      "execution_count": 12,
      "outputs": [
        {
          "output_type": "stream",
          "text": [
            "[4, 3, 1, 1, 0]\n"
          ],
          "name": "stdout"
        }
      ]
    },
    {
      "cell_type": "markdown",
      "metadata": {
        "id": "pW-CAj7XPnYt"
      },
      "source": [
        "#### 다른 사람의 풀이"
      ]
    },
    {
      "cell_type": "code",
      "metadata": {
        "id": "OlIQKrrVPgDI"
      },
      "source": [
        "def solution(p):\n",
        "    ans = [0] * len(p)\n",
        "    stack = [0]\n",
        "    for i in range(1, len(p)):\n",
        "        if p[i] < p[stack[-1]]:\n",
        "            for j in stack[::-1]:\n",
        "                if p[i] < p[j]:\n",
        "                    ans[j] = i-j\n",
        "                    stack.remove(j)\n",
        "                else:\n",
        "                    break\n",
        "        stack.append(i)\n",
        "    for i in range(0, len(stack)-1):\n",
        "        ans[stack[i]] = len(p) - stack[i] - 1\n",
        "    return ans"
      ],
      "execution_count": null,
      "outputs": []
    },
    {
      "cell_type": "markdown",
      "metadata": {
        "id": "hhvZl2t_Q7P0"
      },
      "source": [
        "#### 알게 된 점\n",
        "- stack에 index를 저장하는 방안을 사용하여 더욱 간편하게 코딩할 수 있다.\n",
        "- 역으로 index를 검사함으로써 필요하지 않은 검사를 줄여 시간을 줄일 수 있다.\n",
        "\n"
      ]
    },
    {
      "cell_type": "code",
      "metadata": {
        "id": "_ZMluO5eUBQO"
      },
      "source": [
        ""
      ],
      "execution_count": null,
      "outputs": []
    }
  ]
}