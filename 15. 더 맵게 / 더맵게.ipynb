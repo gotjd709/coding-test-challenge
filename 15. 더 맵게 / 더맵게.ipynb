{
  "nbformat": 4,
  "nbformat_minor": 0,
  "metadata": {
    "colab": {
      "name": "더맵게.ipynb",
      "provenance": [],
      "authorship_tag": "ABX9TyNlQuvb0stQGI3IthbaNq33",
      "include_colab_link": true
    },
    "kernelspec": {
      "name": "python3",
      "display_name": "Python 3"
    },
    "language_info": {
      "name": "python"
    }
  },
  "cells": [
    {
      "cell_type": "markdown",
      "metadata": {
        "id": "view-in-github",
        "colab_type": "text"
      },
      "source": [
        "<a href=\"https://colab.research.google.com/github/gotjd709/Coding_Test_Challenge/blob/main/15.%20%EB%8D%94%20%EB%A7%B5%EA%B2%8C%20/%20%EB%8D%94%EB%A7%B5%EA%B2%8C.ipynb\" target=\"_parent\"><img src=\"https://colab.research.google.com/assets/colab-badge.svg\" alt=\"Open In Colab\"/></a>"
      ]
    },
    {
      "cell_type": "markdown",
      "metadata": {
        "id": "F0GD7feyEd79"
      },
      "source": [
        "# 더 맵게\n",
        "\n",
        "### 내가 만든 함수"
      ]
    },
    {
      "cell_type": "code",
      "metadata": {
        "id": "TsbzeFin_vRH"
      },
      "source": [
        "import heapq\n",
        "\n",
        "def solution(scoville, K):\n",
        "    heapq.heapify(scoville)\n",
        "    try:\n",
        "        cnt = 0\n",
        "        while scoville[0] < K:\n",
        "            min_1 = heapq.heappop(scoville)\n",
        "            min_2 = heapq.heappop(scoville)\n",
        "            new_n = min_1 + 2*min_2\n",
        "            heapq.heappush(scoville, new_n)\n",
        "            cnt += 1\n",
        "        return cnt\n",
        "    except:\n",
        "        return -1"
      ],
      "execution_count": null,
      "outputs": []
    },
    {
      "cell_type": "markdown",
      "metadata": {
        "id": "fkfe3Q1EEfbD"
      },
      "source": [
        "### 다른 사람의 풀이"
      ]
    },
    {
      "cell_type": "code",
      "metadata": {
        "id": "nDIG9AvDEfv7"
      },
      "source": [
        "import heapq as hq\n",
        "\n",
        "def solution(scoville, K):\n",
        "\n",
        "    hq.heapify(scoville)\n",
        "    answer = 0\n",
        "    while True:\n",
        "        first = hq.heappop(scoville)\n",
        "        if first >= K:\n",
        "            break\n",
        "        if len(scoville) == 0:\n",
        "            return -1\n",
        "        second = hq.heappop(scoville)\n",
        "        hq.heappush(scoville, first + second*2)\n",
        "        answer += 1  \n",
        "\n",
        "    return answer"
      ],
      "execution_count": null,
      "outputs": []
    },
    {
      "cell_type": "markdown",
      "metadata": {
        "id": "Q5LWmhlXE_4E"
      },
      "source": [
        "알게 된 점\n",
        "- while True:문을 사용하여 break하거나 return을 빠져나오지 않는 이상 반복하도록 할 수 있다.\n",
        "-  While 문에서 scoville의 길이가 0일 때 -1을 return 하도록 하는 방식으로 -1을 return 하도록 할 수 있다.\n",
        "\n"
      ]
    },
    {
      "cell_type": "code",
      "metadata": {
        "id": "Wm1RvsDAGXcY"
      },
      "source": [
        ""
      ],
      "execution_count": null,
      "outputs": []
    }
  ]
}