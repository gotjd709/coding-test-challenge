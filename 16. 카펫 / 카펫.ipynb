{
  "nbformat": 4,
  "nbformat_minor": 0,
  "metadata": {
    "colab": {
      "name": "16. 카펫.ipynb",
      "provenance": [],
      "authorship_tag": "ABX9TyPDThaJC7dSlvTkMHm0AqdM",
      "include_colab_link": true
    },
    "kernelspec": {
      "name": "python3",
      "display_name": "Python 3"
    },
    "language_info": {
      "name": "python"
    }
  },
  "cells": [
    {
      "cell_type": "markdown",
      "metadata": {
        "id": "view-in-github",
        "colab_type": "text"
      },
      "source": [
        "<a href=\"https://colab.research.google.com/github/gotjd709/Coding_Test_Challenge/blob/main/16.%20%EC%B9%B4%ED%8E%AB%20/%20%EC%B9%B4%ED%8E%AB.ipynb\" target=\"_parent\"><img src=\"https://colab.research.google.com/assets/colab-badge.svg\" alt=\"Open In Colab\"/></a>"
      ]
    },
    {
      "cell_type": "markdown",
      "metadata": {
        "id": "tZgGUPbPLm7N"
      },
      "source": [
        "## 카펫\n",
        "\n",
        "#### 내가 만든 함수"
      ]
    },
    {
      "cell_type": "code",
      "metadata": {
        "id": "V2oHX3LdLfCh"
      },
      "source": [
        "def solution(brown, yellow):\n",
        "    for col in range(1, yellow+1):\n",
        "        trial = divmod(yellow, col)\n",
        "        if trial[1] == 0:\n",
        "            row = trial[0]\n",
        "            if brown == 2*(row+col+2):\n",
        "                return [max(row+2, col+2), min(row+2, col+2)]"
      ],
      "execution_count": null,
      "outputs": []
    },
    {
      "cell_type": "markdown",
      "metadata": {
        "id": "8bABHi4NLxJM"
      },
      "source": [
        "#### 다른 사람의 풀이"
      ]
    },
    {
      "cell_type": "code",
      "metadata": {
        "id": "IJaw4ZY5LxXQ"
      },
      "source": [
        "def solution(brown, red):\n",
        "    for i in range(1, int(red**(1/2))+1):\n",
        "        if red % i == 0:\n",
        "            if 2*(i + red//i) == brown-4:\n",
        "                return [red//i+2, i+2]"
      ],
      "execution_count": null,
      "outputs": []
    },
    {
      "cell_type": "markdown",
      "metadata": {
        "id": "-DsHTPjdL105"
      },
      "source": [
        "#### 알게 된 점\n",
        "\n",
        "- range의 범위를 끝까지 할 필요없이 제곱근까지만 해주어도 무관하다.\n",
        "- row와 col이란 변수의 도입없이 이들의 -2의 값이 brown과 yellow 임을 이용하면 해결할 수 있다."
      ]
    },
    {
      "cell_type": "code",
      "metadata": {
        "id": "DcjIWLZaNn0w"
      },
      "source": [
        ""
      ],
      "execution_count": null,
      "outputs": []
    }
  ]
}