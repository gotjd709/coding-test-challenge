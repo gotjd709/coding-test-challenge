{
  "nbformat": 4,
  "nbformat_minor": 0,
  "metadata": {
    "colab": {
      "name": "프린터.ipynb",
      "provenance": [],
      "authorship_tag": "ABX9TyPUuUWKeFM+C4OwQ16bOPqm",
      "include_colab_link": true
    },
    "kernelspec": {
      "name": "python3",
      "display_name": "Python 3"
    },
    "language_info": {
      "name": "python"
    }
  },
  "cells": [
    {
      "cell_type": "markdown",
      "metadata": {
        "id": "view-in-github",
        "colab_type": "text"
      },
      "source": [
        "<a href=\"https://colab.research.google.com/github/gotjd709/Coding_Test_Challenge/blob/main/18.%20%ED%94%84%EB%A6%B0%ED%84%B0%20/%20%ED%94%84%EB%A6%B0%ED%84%B0.ipynb\" target=\"_parent\"><img src=\"https://colab.research.google.com/assets/colab-badge.svg\" alt=\"Open In Colab\"/></a>"
      ]
    },
    {
      "cell_type": "markdown",
      "metadata": {
        "id": "jp-HU_fqG9rp"
      },
      "source": [
        "## 프린터\n",
        "\n",
        "#### 나의 풀이"
      ]
    },
    {
      "cell_type": "code",
      "metadata": {
        "id": "iXDja57dhjwT",
        "colab": {
          "base_uri": "https://localhost:8080/"
        },
        "outputId": "0436834d-efed-439a-fb91-e14a0803fffb"
      },
      "source": [
        "priorities = [1, 1, 9, 1, 1, 1]\n",
        "location = 0\n",
        "\n",
        "cnt = 0\n",
        "last = -1\n",
        "\n",
        "for i in range(max(priorities), 0, -1):\n",
        "    print(f'리스트의 내림차순 숫자 : {i}')\n",
        "    if i > find_num:\n",
        "        cnt += priorities.count(i)\n",
        "        print(f'기준 숫자보다 클 때 i의 개수 : {priorities.count(i)}')\n",
        "        if priorities.count(i) > 1:\n",
        "            last = priorities.index(i, -1)\n",
        "            print(f'기준 숫자보다 클 때 마지막 i의 인덱스 : {last}')\n",
        "        elif priorities.count(i) == 1:\n",
        "            last = priorities.index(i)\n",
        "            print(f'기준 숫자보다 클 때 마지막 i의 인덱스 : {last}')\n",
        "    elif i == find_num:\n",
        "        if last == -1:\n",
        "            cnt += priorities[:location+1].count(find_num)\n",
        "            print(f'기준 숫자가 리스트의 최대인 경우 ##정답## : {priorities[:location+1].count(find_num)}') \n",
        "        elif last >= 0:\n",
        "            if location > last:\n",
        "                cnt += priorities[last:location+1].count(find_num) \n",
        "                print(f'기준 숫자가 리스트의 최대가 아닐 때 기준 숫자가 같은 숫자에서 몇 번째 출력인지{priorities[last:location+1].count(find_num)}')\n",
        "            elif location < last:\n",
        "                cnt += priorities[last:].count(find_num)\n",
        "                print(f'기준 숫자가 리스트의 최대가 아닐 때 이전 값 더하기 : {priorities[last:].count(find_num)}') \n",
        "                cnt += priorities[:location+1].count(find_num)\n",
        "                print(f'기준 숫자가 리스트의 최대가 아닐 때 이후 값 더하기 : {priorities[:location+1].count(find_num)}')\n",
        "\n",
        "print(f'####최종 정답#### : {cnt}')\n"
      ],
      "execution_count": null,
      "outputs": [
        {
          "output_type": "stream",
          "text": [
            "리스트의 내림차순 숫자 : 9\n",
            "기준 숫자보다 클 때 i의 개수 : 1\n",
            "기준 숫자보다 클 때 마지막 i의 인덱스 : 2\n",
            "리스트의 내림차순 숫자 : 8\n",
            "기준 숫자보다 클 때 i의 개수 : 0\n",
            "리스트의 내림차순 숫자 : 7\n",
            "기준 숫자보다 클 때 i의 개수 : 0\n",
            "리스트의 내림차순 숫자 : 6\n",
            "기준 숫자보다 클 때 i의 개수 : 0\n",
            "리스트의 내림차순 숫자 : 5\n",
            "기준 숫자보다 클 때 i의 개수 : 0\n",
            "리스트의 내림차순 숫자 : 4\n",
            "기준 숫자보다 클 때 i의 개수 : 0\n",
            "리스트의 내림차순 숫자 : 3\n",
            "기준 숫자보다 클 때 i의 개수 : 0\n",
            "리스트의 내림차순 숫자 : 2\n",
            "기준 숫자보다 클 때 i의 개수 : 0\n",
            "리스트의 내림차순 숫자 : 1\n",
            "기준 숫자가 리스트의 최대가 아닐 때 이전 값 더하기 : 3\n",
            "기준 숫자가 리스트의 최대가 아닐 때 이후 값 더하기 : 1\n",
            "####최종 정답#### : 5\n"
          ],
          "name": "stdout"
        }
      ]
    },
    {
      "cell_type": "markdown",
      "metadata": {
        "id": "vh_pRz5aHCZd"
      },
      "source": [
        "테스트 케이스를 추가하여도 전부 정답을 맞추었으나 런타임 에러가 발생하는 것이 존재하였다.\n",
        "\n",
        "#### 다른 사람의 풀이"
      ]
    },
    {
      "cell_type": "code",
      "metadata": {
        "id": "EfRILZihHxFk"
      },
      "source": [
        "from collections import deque\n",
        "\n",
        "def solution(priorities, location):\n",
        "    answer = 0\n",
        "    prior = deque(priorities)\n",
        "    order = deque([i for i in range(len(priorities))])\n",
        "\n",
        "    while len(prior) > 0:\n",
        "        left_num = prior.popleft()\n",
        "        left_ord = order.popleft()\n",
        "        if (len(prior) > 0) and (max(prior) > left_num):\n",
        "            prior.append(left_num)\n",
        "            order.append(left_ord)\n",
        "        else:\n",
        "            answer += 1\n",
        "            if location == left_ord:\n",
        "                break\n",
        "\n",
        "    return answer"
      ],
      "execution_count": null,
      "outputs": []
    },
    {
      "cell_type": "markdown",
      "metadata": {
        "id": "0KUGAOv2HDYY"
      },
      "source": [
        "- 위치를 나타내는 리스트를 만들어 처음의 위치가 존재할 때 멈추는 방법을 사용하였다.\n",
        "\n",
        "- deque를 통해 스택과 큐의 다양한 활용을 알게 되었고 collection.rotate를 통해 popleft 후 append를 한 번에 시킬 수 있는 아이디어를 얻게 되었다.\n"
      ]
    },
    {
      "cell_type": "code",
      "metadata": {
        "id": "PaXJtrxUI9ex"
      },
      "source": [
        ""
      ],
      "execution_count": null,
      "outputs": []
    }
  ]
}